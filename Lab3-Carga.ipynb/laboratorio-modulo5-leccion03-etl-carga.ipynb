{
 "cells": [
  {
   "cell_type": "markdown",
   "metadata": {},
   "source": [
    "<div style=\"text-align: center;\">\n",
    "  <img src=\"https://github.com/Hack-io-Data/Imagenes/blob/main/01-LogosHackio/logo_amarillo@4x.png?raw=true\" alt=\"esquema\" />\n",
    "</div>"
   ]
  },
  {
   "cell_type": "markdown",
   "metadata": {},
   "source": [
    "\n",
    "# Laboratorio ETL: Análisis del Sistema Energético en España\n",
    "\n",
    "## Objetivo\n",
    "\n",
    "Durante todos los laboratorios de esta semana realizarás un proceso completo de ETL para analizar la relación entre la demanda, el consumo y la generación eléctrica en diferentes provincias de España a lo largo de un año. Además, complementarán este análisis con datos demográficos y económicos extraídos del Instituto Nacional de Estadística (INE). El **objetivo principal** del análisis es **examinar cómo la demanda, el consumo y la generación eléctrica en diferentes provincias de España a lo largo de los años están influenciados por factores demográficos y económicos, como la población y el PIB provincial**. El análisis busca identificar patrones y correlaciones entre estas variables para comprender mejor las dinámicas energéticas regionales y su relación con el desarrollo socioeconómico en España.\n",
    "\n",
    "Antes de realizar el análisis, vamos a definir las hipótesis con las que vamos a trabajar, las cuales definirán todo tu análisis y planteamiento de los laboratorios: \n",
    "\n",
    "- **Hipótesis 1: La demanda eléctrica está correlacionada con la población de la provincia.** Provincias con mayor población tienden a tener una mayor demanda eléctrica.\n",
    "  \n",
    "- **Hipótesis 2: El crecimiento económico (medido por el PIB) está correlacionado con el consumo eléctrico.** Las provincias con un PIB más alto o en crecimiento experimentan un mayor consumo de energía.\n",
    "\n",
    "- **Hipótesis 3: La proporción de generación renovable está relacionada con factores económicos o geográficos.** Provincias con un mayor desarrollo económico o con condiciones geográficas favorables (como más horas de sol o viento) tienden a generar más energía renovable.\n",
    "\n",
    "\n",
    "## Tareas Laboratorio Carga\n",
    "\n",
    "En este laboratorio, tu objetivo será diseñar la estructura de una base de datos relacional, crear las tablas necesarias y cargar en ellas los datos limpios y preparados que obtuviste en el laboratorio anterior. Trabajarás con datos relacionados con la demanda, generación eléctrica, y variables socioeconómicas, almacenándolos de manera eficiente para facilitar el análisis y las consultas posteriores.\n",
    "\n",
    "\n",
    "- **Diseño de la Base de Datos:** Define una estructura de base de datos relacional que sea adecuada para almacenar los datos de demanda eléctrica, generación eléctrica, población y PIB por provincia.\n",
    "\n",
    "- **Creación de la Base de Datos:** Escribe los scripts SQL necesarios para crear las tablas definidas en la estructura de la base de datos. Asegúrate de definir correctamente los tipos de datos y las restricciones (e.g., `NOT NULL`, `UNIQUE`).\n",
    "\n",
    "- **Carga de Datos en la Base de Datos:** Utiliza Python para cargar los datos limpios y preparados en las tablas de la base de datos. Asegúrate de que los datos se insertan correctamente, manejando posibles errores o inconsistencias en los datos.\n"
   ]
  },
  {
   "cell_type": "code",
   "execution_count": null,
   "metadata": {},
   "outputs": [
    {
     "ename": "ImportError",
     "evalue": "cannot import name 'InFailedSqlTransaction' from 'psycopg2' (c:\\Users\\Victor\\anaconda3\\envs\\myenv\\lib\\site-packages\\psycopg2\\__init__.py)",
     "output_type": "error",
     "traceback": [
      "\u001b[1;31m---------------------------------------------------------------------------\u001b[0m",
      "\u001b[1;31mImportError\u001b[0m                               Traceback (most recent call last)",
      "Cell \u001b[1;32mIn[42], line 5\u001b[0m\n\u001b[0;32m      2\u001b[0m \u001b[38;5;28;01mimport\u001b[39;00m \u001b[38;5;21;01mnumpy\u001b[39;00m \u001b[38;5;28;01mas\u001b[39;00m \u001b[38;5;21;01mnp\u001b[39;00m\n\u001b[0;32m      3\u001b[0m \u001b[38;5;28;01mimport\u001b[39;00m \u001b[38;5;21;01mpsycopg2\u001b[39;00m\n\u001b[1;32m----> 5\u001b[0m \u001b[38;5;28;01mfrom\u001b[39;00m \u001b[38;5;21;01mpsycopg2\u001b[39;00m \u001b[38;5;28;01mimport\u001b[39;00m InFailedSqlTransaction\n",
      "\u001b[1;31mImportError\u001b[0m: cannot import name 'InFailedSqlTransaction' from 'psycopg2' (c:\\Users\\Victor\\anaconda3\\envs\\myenv\\lib\\site-packages\\psycopg2\\__init__.py)"
     ]
    }
   ],
   "source": [
    "import pandas as pd\n",
    "import numpy as np\n",
    "import psycopg2\n",
    "\n"
   ]
  },
  {
   "cell_type": "markdown",
   "metadata": {},
   "source": [
    "# Cargamos los datos    "
   ]
  },
  {
   "cell_type": "code",
   "execution_count": 20,
   "metadata": {},
   "outputs": [],
   "source": [
    "df_dda_electrica = pd.read_csv(\"../../datos_extraccion/dda_electrica_preparado.csv\", index_col=0)\n",
    "df_gen_electrica = pd.read_csv(\"../../datos_extraccion/gen_electrica_preparado.csv\",index_col=0)\n",
    "df_datos_demograficos = pd.read_csv(\"../../datos_extraccion/datos_demograficos_preparado.csv\",index_col=0)\n",
    "df_datos_eco = pd.read_csv(\"../../datos_extraccion/datos_economicos_preparado.csv\",index_col=0)"
   ]
  },
  {
   "cell_type": "code",
   "execution_count": 14,
   "metadata": {},
   "outputs": [
    {
     "data": {
      "text/plain": [
       "Index(['index', 'ccaa', 'fecha_dda', 'energía_dda'], dtype='object')"
      ]
     },
     "execution_count": 14,
     "metadata": {},
     "output_type": "execute_result"
    }
   ],
   "source": [
    "df_dda_electrica.columns"
   ]
  },
  {
   "cell_type": "markdown",
   "metadata": {},
   "source": [
    "# Conexion con bdd"
   ]
  },
  {
   "cell_type": "code",
   "execution_count": 49,
   "metadata": {},
   "outputs": [],
   "source": [
    "#Nos conectamos a postgres\n",
    "try:\n",
    "    conn = psycopg2.connect(\n",
    "        database = \"Lab5\",\n",
    "        user = \"postgres\",\n",
    "        password = \"admin\",\n",
    "        host = \"localhost\",\n",
    "        port = \"5432\"\n",
    "\n",
    ")\n",
    "except OperationalError:\n",
    "    print(\"la contraseña es errónea\")"
   ]
  },
  {
   "cell_type": "code",
   "execution_count": 16,
   "metadata": {},
   "outputs": [
    {
     "ename": "DuplicateTable",
     "evalue": "la relación «ccaa» ya existe\n",
     "output_type": "error",
     "traceback": [
      "\u001b[1;31m---------------------------------------------------------------------------\u001b[0m",
      "\u001b[1;31mDuplicateTable\u001b[0m                            Traceback (most recent call last)",
      "Cell \u001b[1;32mIn[16], line 51\u001b[0m\n\u001b[0;32m      5\u001b[0m create_tables \u001b[38;5;241m=\u001b[39m \u001b[38;5;124m\"\"\"\u001b[39m\n\u001b[0;32m      6\u001b[0m \u001b[38;5;124mCREATE TABLE ccaa (\u001b[39m\n\u001b[0;32m      7\u001b[0m \u001b[38;5;124m    id SERIAL PRIMARY KEY,\u001b[39m\n\u001b[1;32m   (...)\u001b[0m\n\u001b[0;32m     47\u001b[0m \u001b[38;5;124m);\u001b[39m\n\u001b[0;32m     48\u001b[0m \u001b[38;5;124m\"\"\"\u001b[39m\n\u001b[0;32m     50\u001b[0m \u001b[38;5;66;03m# Execute the SQL command\u001b[39;00m\n\u001b[1;32m---> 51\u001b[0m \u001b[43mcur\u001b[49m\u001b[38;5;241;43m.\u001b[39;49m\u001b[43mexecute\u001b[49m\u001b[43m(\u001b[49m\u001b[43mcreate_tables\u001b[49m\u001b[43m)\u001b[49m\n\u001b[0;32m     52\u001b[0m conn\u001b[38;5;241m.\u001b[39mcommit()\n\u001b[0;32m     53\u001b[0m conn\u001b[38;5;241m.\u001b[39mclose()\n",
      "\u001b[1;31mDuplicateTable\u001b[0m: la relación «ccaa» ya existe\n"
     ]
    }
   ],
   "source": [
    "\n",
    "# Open a cursor to perform database operations\n",
    "cur = conn.cursor()\n",
    "\n",
    "# Create tables\n",
    "create_tables = \"\"\"\n",
    "CREATE TABLE ccaa (\n",
    "    id SERIAL PRIMARY KEY,\n",
    "    name TEXT UNIQUE\n",
    ");\n",
    "\n",
    "CREATE TABLE dda_electrica (\n",
    "    id SERIAL PRIMARY KEY,\n",
    "    index INTEGER,\n",
    "    fecha_dda DATE,\n",
    "    energía_dda NUMERIC,\n",
    "    ccaa_id INTEGER REFERENCES ccaa(id)\n",
    ");\n",
    "\n",
    "CREATE TABLE gen_electrica (\n",
    "    id SERIAL PRIMARY KEY,\n",
    "    energia_generada NUMERIC,\n",
    "    percentage NUMERIC,\n",
    "    fecha_generacion DATE,\n",
    "    tipo_energia TEXT,\n",
    "    ccaa_id INTEGER REFERENCES ccaa(id)\n",
    ");\n",
    "\n",
    "CREATE TABLE datos_demograficos (\n",
    "    id SERIAL PRIMARY KEY,\n",
    "    edad_grupos TEXT,\n",
    "    espanoles_extranjeros TEXT,\n",
    "    sexo TEXT,\n",
    "    año INTEGER,\n",
    "    total INTEGER,\n",
    "    codigo TEXT,\n",
    "    provincia TEXT,\n",
    "    ccaa_id INTEGER REFERENCES ccaa(id)\n",
    ");\n",
    "\n",
    "CREATE TABLE datos_eco (\n",
    "    id SERIAL PRIMARY KEY,\n",
    "    año INTEGER,\n",
    "    total INTEGER,\n",
    "    codigo TEXT,\n",
    "    provincia TEXT,\n",
    "    ccaa_id INTEGER REFERENCES ccaa(id)\n",
    ");\n",
    "\"\"\"\n",
    "\n",
    "# Execute the SQL command\n",
    "cur.execute(create_tables)\n",
    "conn.commit()\n",
    "conn.close()"
   ]
  },
  {
   "cell_type": "markdown",
   "metadata": {},
   "source": [
    "Como ha cogido mal los CSVs, volvemos a aplicar cambios, y ponemos algunas columnas en minúscula para facilitar el insert"
   ]
  },
  {
   "cell_type": "code",
   "execution_count": null,
   "metadata": {},
   "outputs": [
    {
     "data": {
      "text/plain": [
       "Index(['edad', 'nacionalidad', 'sexo', 'anio', 'total', 'codigo', 'provincia',\n",
       "       'ccaa'],\n",
       "      dtype='object')"
      ]
     },
     "execution_count": 22,
     "metadata": {},
     "output_type": "execute_result"
    }
   ],
   "source": [
    "df_datos_demograficos.rename(columns = ({\"Edad (3 grupos de edad)\": \"edad\",\"Españoles/Extranjeros\":\"nacionalidad\",\"Sexo\":\"sexo\",\"Año\":\"anio\",\"Total\":\"total\"}), inplace=True)\n",
    "df_datos_demograficos.columns"
   ]
  },
  {
   "cell_type": "code",
   "execution_count": 29,
   "metadata": {},
   "outputs": [],
   "source": [
    "df_datos_demograficos[\"total\"] = df_datos_demograficos[\"total\"].astype(str).str.replace(\".\",\"\").astype(int)"
   ]
  },
  {
   "cell_type": "code",
   "execution_count": 54,
   "metadata": {},
   "outputs": [],
   "source": [
    "df_datos_eco.rename(columns = ({\"Total\": \"total\"}), inplace = True)"
   ]
  },
  {
   "cell_type": "code",
   "execution_count": 55,
   "metadata": {},
   "outputs": [],
   "source": [
    "#Nos conectamos a postgres\n",
    "try:\n",
    "    conn = psycopg2.connect(\n",
    "        database = \"Lab5\",\n",
    "        user = \"postgres\",\n",
    "        password = \"admin\",\n",
    "        host = \"localhost\",\n",
    "        port = \"5432\"\n",
    "\n",
    ")\n",
    "except OperationalError:\n",
    "    print(\"la contraseña es errónea\")"
   ]
  },
  {
   "cell_type": "code",
   "execution_count": 56,
   "metadata": {},
   "outputs": [],
   "source": [
    "try:\n",
    "    \n",
    "    # Open a cursor to perform database operations\n",
    "    cur = conn.cursor()\n",
    "\n",
    "    # Insert distinct 'ccaa' values into the 'ccaa' table\n",
    "    ccaa_values = ['C_LM', 'Valencia', 'Andalucia', 'Pais_Vasco', 'Asturias',\n",
    "        'C_leon', 'Extremadura', 'Cataluña', 'Cantabria', 'Galicia',\n",
    "        'Aragon', 'Madrid', 'Murcia', 'Navarra', 'La_rioja']\n",
    "\n",
    "    for ccaa in ccaa_values:\n",
    "        cur.execute(\"INSERT INTO ccaa (name) VALUES (%s) ON CONFLICT (name) DO NOTHING\", (ccaa,))\n",
    "\n",
    "\n",
    "\n",
    "    for row in df_dda_electrica.itertuples(index=False):\n",
    "        cur.execute(\"\"\"\n",
    "            INSERT INTO dda_electrica (index, fecha_dda, energía_dda, ccaa_id)\n",
    "            VALUES (%s, %s, %s, (SELECT id FROM ccaa WHERE name = %s))\n",
    "        \"\"\", (row.index, row.fecha_dda, row.energía_dda, row.ccaa))\n",
    "\n",
    "    for row in df_gen_electrica.itertuples(index=False):\n",
    "        cur.execute(\"\"\"\n",
    "            INSERT INTO gen_electrica (energia_generada, percentage, fecha_generacion, tipo_energia, ccaa_id)\n",
    "            VALUES (%s, %s, %s, %s, (SELECT id FROM ccaa WHERE name = %s))\n",
    "        \"\"\", (row.energia_generada, row.percentage, row.fecha_generacion, row.tipo_energia, row.ccaa))\n",
    "\n",
    "    for row in df_datos_demograficos.itertuples(index=False):\n",
    "        cur.execute(\"\"\"\n",
    "            INSERT INTO datos_demograficos (edad_grupos, espanoles_extranjeros, sexo, año, total, codigo, provincia, ccaa_id)\n",
    "            VALUES (%s, %s, %s, %s, %s, %s, %s, (SELECT id FROM ccaa WHERE name = %s))\n",
    "        \"\"\", (row.edad, row.nacionalidad, row.sexo, row.anio, row.total, row.codigo, row.provincia, row.ccaa))\n",
    "\n",
    "    # Iterar sobre las filas con itertuples para 'datos_eco'\n",
    "    for row in df_datos_eco.itertuples(index=False):\n",
    "        cur.execute(\"\"\"\n",
    "            INSERT INTO datos_eco (año, total, codigo, provincia, ccaa_id)\n",
    "            VALUES (%s, %s, %s, %s, (SELECT id FROM ccaa WHERE name = %s))\n",
    "        \"\"\", (row.año, row.total, row.codigo, row.provincia, row.ccaa))\n",
    "\n",
    "    # Commit the changes\n",
    "    conn.commit()\n",
    "\n",
    "    # Close communication with the database\n",
    "    cur.close()\n",
    "    conn.close()\n",
    "except psycopg2.Error as e:\n",
    "    print(e)"
   ]
  }
 ],
 "metadata": {
  "kernelspec": {
   "display_name": "myenv",
   "language": "python",
   "name": "python3"
  },
  "language_info": {
   "codemirror_mode": {
    "name": "ipython",
    "version": 3
   },
   "file_extension": ".py",
   "mimetype": "text/x-python",
   "name": "python",
   "nbconvert_exporter": "python",
   "pygments_lexer": "ipython3",
   "version": "3.9.20"
  }
 },
 "nbformat": 4,
 "nbformat_minor": 2
}
