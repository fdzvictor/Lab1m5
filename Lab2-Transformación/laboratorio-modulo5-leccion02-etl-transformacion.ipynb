{
 "cells": [
  {
   "cell_type": "markdown",
   "metadata": {},
   "source": [
    "<div style=\"text-align: center;\">\n",
    "  <img src=\"https://github.com/Hack-io-Data/Imagenes/blob/main/01-LogosHackio/logo_amarillo@4x.png?raw=true\" alt=\"esquema\" />\n",
    "</div>"
   ]
  },
  {
   "cell_type": "markdown",
   "metadata": {},
   "source": [
    "\n",
    "# Laboratorio ETL: Análisis del Sistema Energético en España\n",
    "\n",
    "## Objetivo\n",
    "\n",
    "Durante todos los laboratorios de esta semana realizarás un proceso completo de ETL para analizar la relación entre la demanda, el consumo y la generación eléctrica en diferentes provincias de España a lo largo de un año. Además, complementarán este análisis con datos demográficos y económicos extraídos del Instituto Nacional de Estadística (INE). El **objetivo principal** del análisis es **examinar cómo la demanda, el consumo y la generación eléctrica en diferentes provincias de España a lo largo de los años están influenciados por factores demográficos y económicos, como la población y el PIB provincial**. El análisis busca identificar patrones y correlaciones entre estas variables para comprender mejor las dinámicas energéticas regionales y su relación con el desarrollo socioeconómico en España.\n",
    "\n",
    "Antes de realizar el análisis, vamos a definir las hipótesis con las que vamos a trabajar, las cuales definirán todo tu análisis y planteamiento de los laboratorios: \n",
    "\n",
    "- **Hipótesis 1: La demanda eléctrica está correlacionada con la población de la provincia.** Provincias con mayor población tienden a tener una mayor demanda eléctrica.\n",
    "  \n",
    "- **Hipótesis 2: El crecimiento económico (medido por el PIB) está correlacionado con el consumo eléctrico.** Las provincias con un PIB más alto o en crecimiento experimentan un mayor consumo de energía.\n",
    "\n",
    "- **Hipótesis 3: La proporción de generación renovable está relacionada con factores económicos o geográficos.** Provincias con un mayor desarrollo económico o con condiciones geográficas favorables (como más horas de sol o viento) tienden a generar más energía renovable.\n",
    "\n",
    "\n",
    "## Tareas Laboratorio Transformación\n",
    "\n",
    "En este laboratorio, tu objetivo será limpiar y preparar los datos extraídos previamente de diferentes fuentes para su posterior análisis. Trabajarás con datos provenientes de la API de Red Eléctrica Española (REE) y del Instituto Nacional de Estadística (INE). Estos datos incluyen información sobre demanda y generación eléctrica a nivel provincial, así como datos demográficos y económicos. \n",
    "\n",
    "\n",
    "- Cargar los Datos Extraídos:\n",
    "\n",
    "  - **Demanda Eléctrica:** Carga los datos de demanda eléctrica extraídos de la API de REE.\n",
    "\n",
    "  - **Generación Eléctrica:** Carga los datos de generación eléctrica diferenciados por tipo de energía (eólica, solar, hidroeléctrica, etc.) a nivel provincial.\n",
    "\n",
    "  - **Datos Demográficos:** Carga los datos demográficos por provincia extraídos de la web del INE.\n",
    "\n",
    "  - **Datos Económicos:** Carga los datos del PIB por provincia obtenidos del INE.\n",
    "\n",
    "\n",
    "-Limpieza de Datos:\n",
    "\n",
    "- Datos de la API de REE:\n",
    "\n",
    "  - **Demanda Eléctrica:**\n",
    "\n",
    "    - **Conversión de Timestamps:** Asegúrate de que las fechas estén correctamente formateadas en `datetime`. Si es necesario, convierte los datos a un formato uniforme (por ejemplo, `YYYY-MM` para datos mensuales).\n",
    "\n",
    "    - **Tratamiento de Valores Nulos:** Identifica y maneja los valores nulos en caso de que los haya. Puedes optar por eliminar filas con valores faltantes.\n",
    "\n",
    "    - **Estandarización de Nombres de Provincias:** Verifica que los nombres de las provincias estén estandarizados y coincidan en todos los conjuntos de datos. Si hay inconsistencias, corrígelas.\n",
    "\n",
    "  - **Generación Eléctrica:**\n",
    "\n",
    "    - **Desagregación de Tecnologías:** Asegúrate de que los datos estén correctamente desglosados por tipo de energía. Revisa que los campos correspondientes a energía eólica, solar, hidroeléctrica, etc., estén bien identificados y sin errores.\n",
    "\n",
    "    - **Normalización de Unidades:** Verifica que las unidades de energía estén estandarizadas (por ejemplo, MWh). Realiza las conversiones necesarias si se encuentran en otras unidades.\n",
    "\n",
    "    - **Identificación de Outliers:** Revisa los valores extremos o atípicos en la generación de energía y decide si deben ser tratados o eliminados.\n",
    "\n",
    "- Datos del INE:\n",
    "\n",
    "  - **Datos Demográficos:**\n",
    "\n",
    "    - **Consistencia en la Codificación de Provincias:** Asegúrate de que los nombres de las provincias en los datos demográficos coincidan con los nombres utilizados en los datos eléctricos.\n",
    "\n",
    "    - **Revisión de Categorías:** Verifica que las categorías de edad, sexo, y nacionalidad estén correctamente etiquetadas y sean consistentes en todo el dataset.\n",
    "\n",
    "    - **Manejo de Valores Faltantes:** Revisa la presencia de valores faltantes y decide cómo tratarlos (relleno, eliminación o sustitución).\n",
    "\n",
    "  - **Datos Económicos:**\n",
    "\n",
    "    - **Normalización del PIB:** Si los datos del PIB están en diferentes unidades o escalas, asegúrate de normalizarlos para que sean comparables entre provincias.\n",
    "\n",
    "    - **Agrupación Temporal:** Si los datos económicos están disponibles en diferentes periodos temporales, agrúpalos y normalízalos para que coincidan con los datos eléctricos en términos de granularidad temporal (mensual o anual).\n",
    "\n",
    "NOTA: Ten en cuenta que los datos los vamos a tener que insertar en una base de datos mañana, por lo que toda esta limpieza os recomendamos que la penséis para poder crear e insertar los datos mañana. "
   ]
  },
  {
   "cell_type": "markdown",
   "metadata": {},
   "source": []
  },
  {
   "cell_type": "code",
   "execution_count": 2,
   "metadata": {},
   "outputs": [],
   "source": [
    "import pandas as pd \n",
    "import psycopg2"
   ]
  },
  {
   "cell_type": "markdown",
   "metadata": {},
   "source": [
    "1 Carga de los datos"
   ]
  },
  {
   "cell_type": "code",
   "execution_count": 3,
   "metadata": {},
   "outputs": [],
   "source": [
    "df_dda_electrica = pd.read_csv(\"../../datos_extraccion/df_dda.csv\", index_col=0)\n",
    "df_gen_electrica = pd.read_csv(\"../../datos_extraccion/df_generacion.csv\",index_col=0)\n",
    "df_datos_demograficos = pd.read_csv(\"../../datos_extraccion/df_demo_ine.csv\",index_col=0)\n",
    "df_datos_eco = pd.read_csv(\"../../datos_extraccion/df_datos_economicos_ine.csv\",index_col=0)"
   ]
  },
  {
   "cell_type": "markdown",
   "metadata": {},
   "source": [
    "# Tratamiento de datos\n"
   ]
  },
  {
   "cell_type": "markdown",
   "metadata": {},
   "source": [
    "# En el dataframe de demanda eléctrica vamos a eliminar las filas desconocidas y vamos asignarle un timestamp a la fecha de la demanda. Eliminarmos el formato float de energia_dda"
   ]
  },
  {
   "cell_type": "code",
   "execution_count": 4,
   "metadata": {},
   "outputs": [],
   "source": [
    "df_dda_electrica[\"fecha_dda\"] = pd.to_datetime(df_dda_electrica[\"fecha_dda\"]).dt.tz_localize(None)\n",
    "df_dda_electrica[\"energía_dda\"] = df_dda_electrica[\"energía_dda\"].replace(\".\",\"\").astype(int)\n",
    "filtro_desconocido = df_dda_electrica[(df_dda_electrica[\"ccaa\"] == \"Desconocido\")]"
   ]
  },
  {
   "cell_type": "code",
   "execution_count": 5,
   "metadata": {},
   "outputs": [],
   "source": [
    "df_dda_electrica.reset_index(inplace=True)"
   ]
  },
  {
   "cell_type": "code",
   "execution_count": 6,
   "metadata": {},
   "outputs": [
    {
     "data": {
      "text/html": [
       "<div>\n",
       "<style scoped>\n",
       "    .dataframe tbody tr th:only-of-type {\n",
       "        vertical-align: middle;\n",
       "    }\n",
       "\n",
       "    .dataframe tbody tr th {\n",
       "        vertical-align: top;\n",
       "    }\n",
       "\n",
       "    .dataframe thead th {\n",
       "        text-align: right;\n",
       "    }\n",
       "</style>\n",
       "<table border=\"1\" class=\"dataframe\">\n",
       "  <thead>\n",
       "    <tr style=\"text-align: right;\">\n",
       "      <th></th>\n",
       "      <th>index</th>\n",
       "      <th>ccaa</th>\n",
       "      <th>fecha_dda</th>\n",
       "      <th>energía_dda</th>\n",
       "    </tr>\n",
       "  </thead>\n",
       "  <tbody>\n",
       "    <tr>\n",
       "      <th>0</th>\n",
       "      <td>0</td>\n",
       "      <td>Pais_Vasco</td>\n",
       "      <td>2019-01-01</td>\n",
       "      <td>16284370</td>\n",
       "    </tr>\n",
       "    <tr>\n",
       "      <th>1</th>\n",
       "      <td>1</td>\n",
       "      <td>Pais_Vasco</td>\n",
       "      <td>2020-01-01</td>\n",
       "      <td>14937556</td>\n",
       "    </tr>\n",
       "    <tr>\n",
       "      <th>2</th>\n",
       "      <td>2</td>\n",
       "      <td>Asturias</td>\n",
       "      <td>2019-01-01</td>\n",
       "      <td>9393095</td>\n",
       "    </tr>\n",
       "    <tr>\n",
       "      <th>3</th>\n",
       "      <td>3</td>\n",
       "      <td>Asturias</td>\n",
       "      <td>2020-01-01</td>\n",
       "      <td>8724907</td>\n",
       "    </tr>\n",
       "    <tr>\n",
       "      <th>4</th>\n",
       "      <td>4</td>\n",
       "      <td>Desconocido</td>\n",
       "      <td>2019-01-01</td>\n",
       "      <td>206048</td>\n",
       "    </tr>\n",
       "  </tbody>\n",
       "</table>\n",
       "</div>"
      ],
      "text/plain": [
       "   index         ccaa  fecha_dda  energía_dda\n",
       "0      0   Pais_Vasco 2019-01-01     16284370\n",
       "1      1   Pais_Vasco 2020-01-01     14937556\n",
       "2      2     Asturias 2019-01-01      9393095\n",
       "3      3     Asturias 2020-01-01      8724907\n",
       "4      4  Desconocido 2019-01-01       206048"
      ]
     },
     "execution_count": 6,
     "metadata": {},
     "output_type": "execute_result"
    }
   ],
   "source": [
    "df_dda_electrica.head()"
   ]
  },
  {
   "cell_type": "code",
   "execution_count": 7,
   "metadata": {},
   "outputs": [],
   "source": [
    "df_dda_electrica.to_csv(\"../../datos_extraccion/dda_electrica_preparado.csv\")"
   ]
  },
  {
   "cell_type": "markdown",
   "metadata": {},
   "source": [
    "# Hacemos generación eléctrica"
   ]
  },
  {
   "cell_type": "code",
   "execution_count": 8,
   "metadata": {},
   "outputs": [],
   "source": [
    "df_gen_electrica[\"fecha_generacion\"] = pd.to_datetime(df_gen_electrica[\"fecha_generacion\"]).dt.tz_localize(None)\n",
    "\n",
    "filtro_desconocido = df_gen_electrica[(df_gen_electrica[\"ccaa\"] == \"Desconocido\")]\n",
    "df_gen_electrica = df_gen_electrica.drop(index = filtro_desconocido.index)\n",
    "df_gen_electrica = df_gen_electrica.drop(columns = [\"index\"])"
   ]
  },
  {
   "cell_type": "code",
   "execution_count": 9,
   "metadata": {},
   "outputs": [
    {
     "data": {
      "text/plain": [
       "array(['Andalucia', 'Aragon', 'Cantabria', 'C_LM', 'C_leon', 'Cataluña',\n",
       "       'Pais_Vasco', 'Asturias', 'Madrid', 'Navarra', 'Valencia',\n",
       "       'Extremadura', 'Galicia', 'La_rioja', 'Murcia'], dtype=object)"
      ]
     },
     "execution_count": 9,
     "metadata": {},
     "output_type": "execute_result"
    }
   ],
   "source": [
    "df_gen_electrica[\"ccaa\"].unique()"
   ]
  },
  {
   "cell_type": "code",
   "execution_count": 10,
   "metadata": {},
   "outputs": [],
   "source": [
    "df_gen_electrica.to_csv(\"../../datos_extraccion/gen_electrica_preparado.csv\")"
   ]
  },
  {
   "cell_type": "markdown",
   "metadata": {},
   "source": [
    "# Hacemos datos demográficos"
   ]
  },
  {
   "cell_type": "code",
   "execution_count": 11,
   "metadata": {},
   "outputs": [
    {
     "data": {
      "text/html": [
       "<div>\n",
       "<style scoped>\n",
       "    .dataframe tbody tr th:only-of-type {\n",
       "        vertical-align: middle;\n",
       "    }\n",
       "\n",
       "    .dataframe tbody tr th {\n",
       "        vertical-align: top;\n",
       "    }\n",
       "\n",
       "    .dataframe thead th {\n",
       "        text-align: right;\n",
       "    }\n",
       "</style>\n",
       "<table border=\"1\" class=\"dataframe\">\n",
       "  <thead>\n",
       "    <tr style=\"text-align: right;\">\n",
       "      <th></th>\n",
       "      <th>Edad (3 grupos de edad)</th>\n",
       "      <th>Españoles/Extranjeros</th>\n",
       "      <th>Sexo</th>\n",
       "      <th>Año</th>\n",
       "      <th>Total</th>\n",
       "      <th>codigo</th>\n",
       "      <th>provincia</th>\n",
       "    </tr>\n",
       "  </thead>\n",
       "  <tbody>\n",
       "    <tr>\n",
       "      <th>0</th>\n",
       "      <td>0-15 años</td>\n",
       "      <td>Españoles</td>\n",
       "      <td>Ambos sexos</td>\n",
       "      <td>2022</td>\n",
       "      <td>51.924</td>\n",
       "      <td>2</td>\n",
       "      <td>Albacete</td>\n",
       "    </tr>\n",
       "    <tr>\n",
       "      <th>1</th>\n",
       "      <td>0-15 años</td>\n",
       "      <td>Españoles</td>\n",
       "      <td>Ambos sexos</td>\n",
       "      <td>2021</td>\n",
       "      <td>52.851</td>\n",
       "      <td>2</td>\n",
       "      <td>Albacete</td>\n",
       "    </tr>\n",
       "    <tr>\n",
       "      <th>2</th>\n",
       "      <td>0-15 años</td>\n",
       "      <td>Españoles</td>\n",
       "      <td>Ambos sexos</td>\n",
       "      <td>2020</td>\n",
       "      <td>53.932</td>\n",
       "      <td>2</td>\n",
       "      <td>Albacete</td>\n",
       "    </tr>\n",
       "    <tr>\n",
       "      <th>3</th>\n",
       "      <td>0-15 años</td>\n",
       "      <td>Españoles</td>\n",
       "      <td>Ambos sexos</td>\n",
       "      <td>2019</td>\n",
       "      <td>55.028</td>\n",
       "      <td>2</td>\n",
       "      <td>Albacete</td>\n",
       "    </tr>\n",
       "    <tr>\n",
       "      <th>4</th>\n",
       "      <td>0-15 años</td>\n",
       "      <td>Españoles</td>\n",
       "      <td>Hombres</td>\n",
       "      <td>2022</td>\n",
       "      <td>26.845</td>\n",
       "      <td>2</td>\n",
       "      <td>Albacete</td>\n",
       "    </tr>\n",
       "  </tbody>\n",
       "</table>\n",
       "</div>"
      ],
      "text/plain": [
       "  Edad (3 grupos de edad) Españoles/Extranjeros         Sexo   Año   Total  \\\n",
       "0               0-15 años             Españoles  Ambos sexos  2022  51.924   \n",
       "1               0-15 años             Españoles  Ambos sexos  2021  52.851   \n",
       "2               0-15 años             Españoles  Ambos sexos  2020  53.932   \n",
       "3               0-15 años             Españoles  Ambos sexos  2019  55.028   \n",
       "4               0-15 años             Españoles      Hombres  2022  26.845   \n",
       "\n",
       "   codigo provincia  \n",
       "0       2  Albacete  \n",
       "1       2  Albacete  \n",
       "2       2  Albacete  \n",
       "3       2  Albacete  \n",
       "4       2  Albacete  "
      ]
     },
     "execution_count": 11,
     "metadata": {},
     "output_type": "execute_result"
    }
   ],
   "source": [
    "df_datos_demograficos.head()"
   ]
  },
  {
   "cell_type": "markdown",
   "metadata": {},
   "source": [
    "Como los datos de la API no tenían datos por provincia, generaremos una nueva columna desde la que unir con las CCAA"
   ]
  },
  {
   "cell_type": "code",
   "execution_count": 12,
   "metadata": {},
   "outputs": [],
   "source": [
    "dic_provincias_comunidades = {\n",
    "    \"Coruña,\":\"Galicia\",\n",
    "    \"Araba/Álava\": \"Pais_Vasco\",\n",
    "    \"Albacete\": \"C_LM\",\n",
    "    \"Alicante/Alacant\": \"Valencia\",\n",
    "    \"Almería\": \"Andalucia\",\n",
    "    \"Asturias\": \"Asturias\",\n",
    "    \"Ávila\": \"C_leon\",\n",
    "    \"Badajoz\": \"Extremadura\",\n",
    "    \"Baleares\": \"Islas Baleares\",\n",
    "    \"Barcelona\": \"Cataluña\",\n",
    "    \"Burgos\": \"C_leon\",\n",
    "    \"Cáceres\": \"Extremadura\",\n",
    "    \"Cádiz\": \"Andalucia\",\n",
    "    \"Cantabria\": \"Cantabria\",\n",
    "    \"Castellón/Castelló\": \"Valencia\",\n",
    "    \"Ciudad\": \"C_LM\",\n",
    "    \"Córdoba\": \"Andalucia\",\n",
    "    \"Cuenca\": \"C_LM\",\n",
    "    \"Girona\": \"Cataluña\",\n",
    "    \"Granada\": \"Andalucia\",\n",
    "    \"Guadalajara\": \"C_LM\",\n",
    "    \"Gipuzkoa\": \"Pais_Vasco\",\n",
    "    \"Huelva\": \"Andalucia\",\n",
    "    \"Aragón\":\"Aragon\",\n",
    "    \"Huesca\": \"Aragon\",\n",
    "    \"Jaén\": \"Andalucia\",\n",
    "    \"Rioja,\": \"La_rioja\",\n",
    "    \"Las Palmas\": \"Canarias\",\n",
    "    \"León\": \"C_leon\",\n",
    "    \"Lleida\": \"Cataluña\",\n",
    "    \"Lugo\": \"Galicia\",\n",
    "    \"Madrid\": \"Madrid\",\n",
    "    \"Málaga\": \"Andalucia\",\n",
    "    \"Murcia\": \"Murcia\",\n",
    "    \"Navarra\": \"Navarra\",\n",
    "    \"Ourense\": \"Galicia\",\n",
    "    \"Palencia\": \"C_leon\",\n",
    "    \"Pontevedra\": \"Galicia\",\n",
    "    \"Salamanca\": \"C_leon\",\n",
    "    \"Santa\": \"Canarias\",\n",
    "    \"Segovia\": \"C_leon\",\n",
    "    \"Sevilla\": \"Andalucia\",\n",
    "    \"Soria\": \"C_leon\",\n",
    "    \"Tarragona\": \"Cataluña\",\n",
    "    \"Teruel\": \"Aragon\",\n",
    "    \"Toledo\": \"C_LM\",\n",
    "    \"Valencia\": \"Valencia\",\n",
    "    \"Valladolid\": \"C_leon\",\n",
    "    \"Bizkaia\": \"Pais_Vasco\",\n",
    "    \"Zamora\": \"C_leon\",\n",
    "    \"Zaragoza\": \"Aragon\",\n",
    "    \"Ceuta\": \"Ceuta\",\n",
    "    \"Melilla\": \"Melilla\",\n",
    "    \"Valencia/València\": \"Valencia\"\n",
    "}\n"
   ]
  },
  {
   "cell_type": "code",
   "execution_count": 13,
   "metadata": {},
   "outputs": [],
   "source": [
    "df_datos_demograficos[\"Edad (3 grupos de edad)\"].unique()\n",
    "df_datos_demograficos.rename({\"Edad (3 grupos de edad)\":\"edad\"}, inplace = True)\n",
    "df_datos_demograficos[\"ccaa\"] = df_datos_demograficos[\"provincia\"].replace(dic_provincias_comunidades)"
   ]
  },
  {
   "cell_type": "code",
   "execution_count": 14,
   "metadata": {},
   "outputs": [
    {
     "data": {
      "text/plain": [
       "array(['C_LM', 'Valencia', 'Andalucia', 'Pais_Vasco', 'Asturias',\n",
       "       'C_leon', 'Extremadura', 'Balears,', 'Cataluña', 'Cantabria',\n",
       "       'Galicia', 'Aragon', 'Madrid', 'Murcia', 'Navarra', 'Palmas,',\n",
       "       'La_rioja', 'Canarias', 'Ceuta', 'Melilla'], dtype=object)"
      ]
     },
     "execution_count": 14,
     "metadata": {},
     "output_type": "execute_result"
    }
   ],
   "source": [
    "df_datos_demograficos[\"ccaa\"].unique()"
   ]
  },
  {
   "cell_type": "code",
   "execution_count": 15,
   "metadata": {},
   "outputs": [],
   "source": [
    "diferencia = list(df_datos_demograficos[\"ccaa\"][~df_datos_demograficos[\"ccaa\"].isin(df_gen_electrica[\"ccaa\"])].unique())\n",
    "\n",
    "filtro_diferencia = df_datos_demograficos[df_datos_demograficos[\"ccaa\"].isin(diferencia)]\n",
    "\n",
    "df_datos_demograficos = df_datos_demograficos.drop(index= filtro_diferencia.index)"
   ]
  },
  {
   "cell_type": "code",
   "execution_count": 16,
   "metadata": {},
   "outputs": [
    {
     "data": {
      "text/html": [
       "<div>\n",
       "<style scoped>\n",
       "    .dataframe tbody tr th:only-of-type {\n",
       "        vertical-align: middle;\n",
       "    }\n",
       "\n",
       "    .dataframe tbody tr th {\n",
       "        vertical-align: top;\n",
       "    }\n",
       "\n",
       "    .dataframe thead th {\n",
       "        text-align: right;\n",
       "    }\n",
       "</style>\n",
       "<table border=\"1\" class=\"dataframe\">\n",
       "  <thead>\n",
       "    <tr style=\"text-align: right;\">\n",
       "      <th></th>\n",
       "      <th>Edad (3 grupos de edad)</th>\n",
       "      <th>Españoles/Extranjeros</th>\n",
       "      <th>Sexo</th>\n",
       "      <th>Año</th>\n",
       "      <th>Total</th>\n",
       "      <th>codigo</th>\n",
       "      <th>provincia</th>\n",
       "      <th>ccaa</th>\n",
       "    </tr>\n",
       "  </thead>\n",
       "  <tbody>\n",
       "    <tr>\n",
       "      <th>0</th>\n",
       "      <td>0-15 años</td>\n",
       "      <td>Españoles</td>\n",
       "      <td>Ambos sexos</td>\n",
       "      <td>2022</td>\n",
       "      <td>51.924</td>\n",
       "      <td>2</td>\n",
       "      <td>Albacete</td>\n",
       "      <td>C_LM</td>\n",
       "    </tr>\n",
       "    <tr>\n",
       "      <th>1</th>\n",
       "      <td>0-15 años</td>\n",
       "      <td>Españoles</td>\n",
       "      <td>Ambos sexos</td>\n",
       "      <td>2021</td>\n",
       "      <td>52.851</td>\n",
       "      <td>2</td>\n",
       "      <td>Albacete</td>\n",
       "      <td>C_LM</td>\n",
       "    </tr>\n",
       "    <tr>\n",
       "      <th>2</th>\n",
       "      <td>0-15 años</td>\n",
       "      <td>Españoles</td>\n",
       "      <td>Ambos sexos</td>\n",
       "      <td>2020</td>\n",
       "      <td>53.932</td>\n",
       "      <td>2</td>\n",
       "      <td>Albacete</td>\n",
       "      <td>C_LM</td>\n",
       "    </tr>\n",
       "    <tr>\n",
       "      <th>3</th>\n",
       "      <td>0-15 años</td>\n",
       "      <td>Españoles</td>\n",
       "      <td>Ambos sexos</td>\n",
       "      <td>2019</td>\n",
       "      <td>55.028</td>\n",
       "      <td>2</td>\n",
       "      <td>Albacete</td>\n",
       "      <td>C_LM</td>\n",
       "    </tr>\n",
       "    <tr>\n",
       "      <th>4</th>\n",
       "      <td>0-15 años</td>\n",
       "      <td>Españoles</td>\n",
       "      <td>Hombres</td>\n",
       "      <td>2022</td>\n",
       "      <td>26.845</td>\n",
       "      <td>2</td>\n",
       "      <td>Albacete</td>\n",
       "      <td>C_LM</td>\n",
       "    </tr>\n",
       "  </tbody>\n",
       "</table>\n",
       "</div>"
      ],
      "text/plain": [
       "  Edad (3 grupos de edad) Españoles/Extranjeros         Sexo   Año   Total  \\\n",
       "0               0-15 años             Españoles  Ambos sexos  2022  51.924   \n",
       "1               0-15 años             Españoles  Ambos sexos  2021  52.851   \n",
       "2               0-15 años             Españoles  Ambos sexos  2020  53.932   \n",
       "3               0-15 años             Españoles  Ambos sexos  2019  55.028   \n",
       "4               0-15 años             Españoles      Hombres  2022  26.845   \n",
       "\n",
       "   codigo provincia  ccaa  \n",
       "0       2  Albacete  C_LM  \n",
       "1       2  Albacete  C_LM  \n",
       "2       2  Albacete  C_LM  \n",
       "3       2  Albacete  C_LM  \n",
       "4       2  Albacete  C_LM  "
      ]
     },
     "execution_count": 16,
     "metadata": {},
     "output_type": "execute_result"
    }
   ],
   "source": [
    "df_datos_demograficos.head()"
   ]
  },
  {
   "cell_type": "code",
   "execution_count": 17,
   "metadata": {},
   "outputs": [],
   "source": [
    "df_datos_demograficos.to_csv(\"../../datos_extraccion/datos_demograficos_preparado.csv\")"
   ]
  },
  {
   "cell_type": "markdown",
   "metadata": {},
   "source": [
    "# Le aplicamos la misma transformación a los datos economicos"
   ]
  },
  {
   "cell_type": "code",
   "execution_count": 305,
   "metadata": {},
   "outputs": [
    {
     "data": {
      "text/html": [
       "<div>\n",
       "<style scoped>\n",
       "    .dataframe tbody tr th:only-of-type {\n",
       "        vertical-align: middle;\n",
       "    }\n",
       "\n",
       "    .dataframe tbody tr th {\n",
       "        vertical-align: top;\n",
       "    }\n",
       "\n",
       "    .dataframe thead th {\n",
       "        text-align: right;\n",
       "    }\n",
       "</style>\n",
       "<table border=\"1\" class=\"dataframe\">\n",
       "  <thead>\n",
       "    <tr style=\"text-align: right;\">\n",
       "      <th></th>\n",
       "      <th>periodo</th>\n",
       "      <th>Total</th>\n",
       "      <th>codigo</th>\n",
       "      <th>provincia</th>\n",
       "    </tr>\n",
       "  </thead>\n",
       "  <tbody>\n",
       "    <tr>\n",
       "      <th>0</th>\n",
       "      <td>2021</td>\n",
       "      <td>8.663.814</td>\n",
       "      <td>2</td>\n",
       "      <td>Albacete</td>\n",
       "    </tr>\n",
       "    <tr>\n",
       "      <th>1</th>\n",
       "      <td>2020</td>\n",
       "      <td>7.855.556</td>\n",
       "      <td>2</td>\n",
       "      <td>Albacete</td>\n",
       "    </tr>\n",
       "    <tr>\n",
       "      <th>2</th>\n",
       "      <td>2019</td>\n",
       "      <td>8.475.070</td>\n",
       "      <td>2</td>\n",
       "      <td>Albacete</td>\n",
       "    </tr>\n",
       "    <tr>\n",
       "      <th>3</th>\n",
       "      <td>2021</td>\n",
       "      <td>37.279.735</td>\n",
       "      <td>3</td>\n",
       "      <td>Alicante/Alacant</td>\n",
       "    </tr>\n",
       "    <tr>\n",
       "      <th>4</th>\n",
       "      <td>2020</td>\n",
       "      <td>33.979.911</td>\n",
       "      <td>3</td>\n",
       "      <td>Alicante/Alacant</td>\n",
       "    </tr>\n",
       "  </tbody>\n",
       "</table>\n",
       "</div>"
      ],
      "text/plain": [
       "   periodo       Total  codigo         provincia\n",
       "0     2021   8.663.814       2          Albacete\n",
       "1     2020   7.855.556       2          Albacete\n",
       "2     2019   8.475.070       2          Albacete\n",
       "3     2021  37.279.735       3  Alicante/Alacant\n",
       "4     2020  33.979.911       3  Alicante/Alacant"
      ]
     },
     "execution_count": 305,
     "metadata": {},
     "output_type": "execute_result"
    }
   ],
   "source": [
    "df_datos_eco.head()"
   ]
  },
  {
   "cell_type": "code",
   "execution_count": null,
   "metadata": {},
   "outputs": [],
   "source": [
    "diferencia = list(df_datos_eco[\"ccaa\"][~df_datos_eco[\"ccaa\"].isin(df_gen_electrica[\"ccaa\"])].unique())\n",
    "\n",
    "filtro_diferencia = df_datos_eco[df_datos_eco[\"ccaa\"].isin(diferencia)]\n",
    "\n",
    "df_datos_eco = df_datos_eco.drop(index= filtro_diferencia.index)\n",
    "\n",
    "df_datos_eco[\"Total\"] = df_datos_eco[\"Total\"].astype(str)\n",
    "df_datos_eco[\"Total\"] = df_datos_eco[\"Total\"].str.replace(\".\",\"\").astype(int)\n",
    "\n",
    "df_datos_eco.rename(columns = {\"periodo\":\"año\"}, inplace = True)\n",
    "\n",
    "df_datos_eco[\"ccaa\"] = df_datos_eco[\"provincia\"].replace(dic_provincias_comunidades)"
   ]
  },
  {
   "cell_type": "code",
   "execution_count": 320,
   "metadata": {},
   "outputs": [
    {
     "data": {
      "text/html": [
       "<div>\n",
       "<style scoped>\n",
       "    .dataframe tbody tr th:only-of-type {\n",
       "        vertical-align: middle;\n",
       "    }\n",
       "\n",
       "    .dataframe tbody tr th {\n",
       "        vertical-align: top;\n",
       "    }\n",
       "\n",
       "    .dataframe thead th {\n",
       "        text-align: right;\n",
       "    }\n",
       "</style>\n",
       "<table border=\"1\" class=\"dataframe\">\n",
       "  <thead>\n",
       "    <tr style=\"text-align: right;\">\n",
       "      <th></th>\n",
       "      <th>año</th>\n",
       "      <th>Total</th>\n",
       "      <th>codigo</th>\n",
       "      <th>provincia</th>\n",
       "      <th>ccaa</th>\n",
       "    </tr>\n",
       "  </thead>\n",
       "  <tbody>\n",
       "    <tr>\n",
       "      <th>0</th>\n",
       "      <td>2021</td>\n",
       "      <td>8663814</td>\n",
       "      <td>2</td>\n",
       "      <td>Albacete</td>\n",
       "      <td>C_LM</td>\n",
       "    </tr>\n",
       "    <tr>\n",
       "      <th>1</th>\n",
       "      <td>2020</td>\n",
       "      <td>7855556</td>\n",
       "      <td>2</td>\n",
       "      <td>Albacete</td>\n",
       "      <td>C_LM</td>\n",
       "    </tr>\n",
       "    <tr>\n",
       "      <th>2</th>\n",
       "      <td>2019</td>\n",
       "      <td>8475070</td>\n",
       "      <td>2</td>\n",
       "      <td>Albacete</td>\n",
       "      <td>C_LM</td>\n",
       "    </tr>\n",
       "    <tr>\n",
       "      <th>3</th>\n",
       "      <td>2021</td>\n",
       "      <td>37279735</td>\n",
       "      <td>3</td>\n",
       "      <td>Alicante/Alacant</td>\n",
       "      <td>Valencia</td>\n",
       "    </tr>\n",
       "    <tr>\n",
       "      <th>4</th>\n",
       "      <td>2020</td>\n",
       "      <td>33979911</td>\n",
       "      <td>3</td>\n",
       "      <td>Alicante/Alacant</td>\n",
       "      <td>Valencia</td>\n",
       "    </tr>\n",
       "  </tbody>\n",
       "</table>\n",
       "</div>"
      ],
      "text/plain": [
       "    año     Total  codigo         provincia      ccaa\n",
       "0  2021   8663814       2          Albacete      C_LM\n",
       "1  2020   7855556       2          Albacete      C_LM\n",
       "2  2019   8475070       2          Albacete      C_LM\n",
       "3  2021  37279735       3  Alicante/Alacant  Valencia\n",
       "4  2020  33979911       3  Alicante/Alacant  Valencia"
      ]
     },
     "execution_count": 320,
     "metadata": {},
     "output_type": "execute_result"
    }
   ],
   "source": [
    "df_datos_eco.head()"
   ]
  },
  {
   "cell_type": "code",
   "execution_count": 325,
   "metadata": {},
   "outputs": [],
   "source": [
    "df_datos_eco.to_csv(\"../../datos_extraccion/datos_economicos_preparado.csv\")"
   ]
  }
 ],
 "metadata": {
  "kernelspec": {
   "display_name": "myenv",
   "language": "python",
   "name": "python3"
  },
  "language_info": {
   "codemirror_mode": {
    "name": "ipython",
    "version": 3
   },
   "file_extension": ".py",
   "mimetype": "text/x-python",
   "name": "python",
   "nbconvert_exporter": "python",
   "pygments_lexer": "ipython3",
   "version": "3.9.20"
  }
 },
 "nbformat": 4,
 "nbformat_minor": 2
}
